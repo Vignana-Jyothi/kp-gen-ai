{
 "cells": [
  {
   "cell_type": "code",
   "execution_count": 1,
   "id": "e96c8bac-71f0-4eaa-b380-84b41fd2f839",
   "metadata": {},
   "outputs": [
    {
     "name": "stdout",
     "output_type": "stream",
     "text": [
      "Hello, Jupyter!\n"
     ]
    }
   ],
   "source": [
    "print(\"Hello, Jupyter!\")"
   ]
  },
  {
   "cell_type": "code",
   "execution_count": 2,
   "id": "42ac546e-7c01-45ab-932c-1fd1525d0cc3",
   "metadata": {},
   "outputs": [
    {
     "name": "stdout",
     "output_type": "stream",
     "text": [
      "Requirement already satisfied: transformers in /home/kp/anaconda3/envs/kpenv/lib/python3.8/site-packages (4.41.0)\n",
      "Requirement already satisfied: filelock in /home/kp/anaconda3/envs/kpenv/lib/python3.8/site-packages (from transformers) (3.14.0)\n",
      "Requirement already satisfied: huggingface-hub<1.0,>=0.23.0 in /home/kp/anaconda3/envs/kpenv/lib/python3.8/site-packages (from transformers) (0.23.0)\n",
      "Requirement already satisfied: numpy>=1.17 in /home/kp/anaconda3/envs/kpenv/lib/python3.8/site-packages (from transformers) (1.24.4)\n",
      "Requirement already satisfied: packaging>=20.0 in /home/kp/anaconda3/envs/kpenv/lib/python3.8/site-packages (from transformers) (23.2)\n",
      "Requirement already satisfied: pyyaml>=5.1 in /home/kp/anaconda3/envs/kpenv/lib/python3.8/site-packages (from transformers) (6.0.1)\n",
      "Requirement already satisfied: regex!=2019.12.17 in /home/kp/anaconda3/envs/kpenv/lib/python3.8/site-packages (from transformers) (2024.5.15)\n",
      "Requirement already satisfied: requests in /home/kp/anaconda3/envs/kpenv/lib/python3.8/site-packages (from transformers) (2.31.0)\n",
      "Requirement already satisfied: tokenizers<0.20,>=0.19 in /home/kp/anaconda3/envs/kpenv/lib/python3.8/site-packages (from transformers) (0.19.1)\n",
      "Requirement already satisfied: safetensors>=0.4.1 in /home/kp/anaconda3/envs/kpenv/lib/python3.8/site-packages (from transformers) (0.4.3)\n",
      "Requirement already satisfied: tqdm>=4.27 in /home/kp/anaconda3/envs/kpenv/lib/python3.8/site-packages (from transformers) (4.66.4)\n",
      "Requirement already satisfied: fsspec>=2023.5.0 in /home/kp/anaconda3/envs/kpenv/lib/python3.8/site-packages (from huggingface-hub<1.0,>=0.23.0->transformers) (2024.5.0)\n",
      "Requirement already satisfied: typing-extensions>=3.7.4.3 in /home/kp/anaconda3/envs/kpenv/lib/python3.8/site-packages (from huggingface-hub<1.0,>=0.23.0->transformers) (4.11.0)\n",
      "Requirement already satisfied: charset-normalizer<4,>=2 in /home/kp/anaconda3/envs/kpenv/lib/python3.8/site-packages (from requests->transformers) (2.0.4)\n",
      "Requirement already satisfied: idna<4,>=2.5 in /home/kp/anaconda3/envs/kpenv/lib/python3.8/site-packages (from requests->transformers) (3.7)\n",
      "Requirement already satisfied: urllib3<3,>=1.21.1 in /home/kp/anaconda3/envs/kpenv/lib/python3.8/site-packages (from requests->transformers) (2.2.1)\n",
      "Requirement already satisfied: certifi>=2017.4.17 in /home/kp/anaconda3/envs/kpenv/lib/python3.8/site-packages (from requests->transformers) (2024.2.2)\n",
      "Note: you may need to restart the kernel to use updated packages.\n"
     ]
    }
   ],
   "source": [
    "pip install transformers"
   ]
  },
  {
   "cell_type": "code",
   "execution_count": 3,
   "id": "a2e9ce85-d9ab-4df9-bf46-0405b9d23e84",
   "metadata": {},
   "outputs": [],
   "source": [
    "from transformers import pipeline"
   ]
  },
  {
   "cell_type": "code",
   "execution_count": 4,
   "id": "89c39ded-5ead-408c-8be0-e6dc1471a446",
   "metadata": {},
   "outputs": [
    {
     "name": "stderr",
     "output_type": "stream",
     "text": [
      "No model was supplied, defaulted to distilbert/distilbert-base-uncased-finetuned-sst-2-english and revision af0f99b (https://huggingface.co/distilbert/distilbert-base-uncased-finetuned-sst-2-english).\n",
      "Using a pipeline without specifying a model name and revision in production is not recommended.\n",
      "/home/kp/anaconda3/envs/kpenv/lib/python3.8/site-packages/huggingface_hub/file_download.py:1132: FutureWarning: `resume_download` is deprecated and will be removed in version 1.0.0. Downloads always resume when possible. If you want to force a new download, use `force_download=True`.\n",
      "  warnings.warn(\n"
     ]
    }
   ],
   "source": [
    "sentiment_analysis = pipeline('sentiment-analysis')"
   ]
  },
  {
   "cell_type": "code",
   "execution_count": 5,
   "id": "41c4caba-7535-4d0d-a210-078bc22f0550",
   "metadata": {},
   "outputs": [
    {
     "name": "stdout",
     "output_type": "stream",
     "text": [
      "Sentiment Analysis of 'I love sunny days, but I hate getting sunburned.':\n",
      "Label: NEGATIVE, Score: 0.91\n"
     ]
    }
   ],
   "source": [
    "# Function to analyze sentiment using pipeline\n",
    "def analyze_sentiment_pipeline(text):\n",
    "    result = sentiment_analysis(text)[0]\n",
    "    return result\n",
    "\n",
    "# Test the function\n",
    "sample_text = \"I love sunny days, but I hate getting sunburned.\"\n",
    "result = analyze_sentiment_pipeline(sample_text)\n",
    "print(f\"Sentiment Analysis of '{sample_text}':\")\n",
    "print(f\"Label: {result['label']}, Score: {result['score']:.2f}\")\n"
   ]
  },
  {
   "cell_type": "code",
   "execution_count": null,
   "id": "eff22e69-4072-4604-9e4a-331813ece6f1",
   "metadata": {},
   "outputs": [],
   "source": []
  }
 ],
 "metadata": {
  "kernelspec": {
   "display_name": "Python (kpenv)",
   "language": "python",
   "name": "kpenv"
  },
  "language_info": {
   "codemirror_mode": {
    "name": "ipython",
    "version": 3
   },
   "file_extension": ".py",
   "mimetype": "text/x-python",
   "name": "python",
   "nbconvert_exporter": "python",
   "pygments_lexer": "ipython3",
   "version": "3.8.19"
  }
 },
 "nbformat": 4,
 "nbformat_minor": 5
}
