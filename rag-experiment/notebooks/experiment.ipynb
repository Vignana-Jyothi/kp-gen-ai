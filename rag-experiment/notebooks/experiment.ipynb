
{
 "cells": [
  {
   "cell_type": "code",
   "execution_count": null,
   "id": "b3930e14",
   "metadata": {},
   "outputs": [],
   "source": [
    "# This is a Jupyter notebook for experimenting with RAG pipeline
",
    "from preprocess import preprocess_corpus
",
    "from index_corpus import create_index
",
    "from retrieve import load_index, retrieve
",
    "from generate import generate
",
    "from rag_pipeline import rag_pipeline
",
    "
",
    "# Preprocess the corpus
",
    "corpus = preprocess_corpus("../data/corpus")
",
    "print("Preprocessed Corpus:", corpus)
",
    "
",
    "# Create the index
",
    "index = create_index(corpus)
",
    "
",
    "# Test retrieval
",
    "query = "What is topic A?"
",
    "top_k_indices = retrieve(query, index)
",
    "retrieved_docs = [corpus[i] for i in top_k_indices[0]]
",
    "print("Retrieved Documents:", retrieved_docs)
",
    "
",
    "# Test generation
",
    "response = rag_pipeline(query)
",
    "print("Response:", response)"
   ]
  }
 ],
 "metadata": {
  "kernelspec": {
   "display_name": "Python 3",
   "language": "python",
   "name": "python3"
  },
  "language_info": {
   "codemirror_mode": {
    "name": "ipython",
    "version": 3
   },
   "file_extension": ".py",
   "mimetype": "text/x-python",
   "name": "python",
   "nbconvert_exporter": "python",
   "pygments_lexer": "ipython3",
   "version": "3.8.5"
  }
 },
 "nbformat": 4,
 "nbformat_minor": 5
}
